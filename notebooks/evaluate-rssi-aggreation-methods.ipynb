{
 "cells": [
  {
   "cell_type": "markdown",
   "metadata": {},
   "source": [
    "# This notebook evaluates different methods for aggrerating mutiple RSSI readings in order to get a better distance estimation"
   ]
  },
  {
   "cell_type": "code",
   "execution_count": 1,
   "metadata": {
    "collapsed": true
   },
   "outputs": [],
   "source": [
    "import datetime\n",
    "import pandas as pd\n",
    "import numpy as np\n",
    "import matplotlib.pyplot as plt"
   ]
  },
  {
   "cell_type": "code",
   "execution_count": 5,
   "metadata": {},
   "outputs": [],
   "source": [
    "def parse_data_file(f):\n",
    "    for line in f:\n",
    "        tokens = line.strip().split()\n",
    "        if tokens[0] == 'Starting' or tokens[0] == 'Stopping':\n",
    "            continue\n",
    "        mac, rssi, time = tokens\n",
    "        mac = mac.strip(',')\n",
    "        rssi = int(rssi)\n",
    "        time = datetime.datetime.strptime(time, '%H:%M:%S.%f').time()\n",
    "        \n",
    "        yield (time, mac, rssi)\n",
    "\n",
    "        \n",
    "def read_experiment_files():\n",
    "    distances = [2, 4, 6, 8, 10]\n",
    "    for d in distances:\n",
    "        with open('../data/rssi_distance/expt8/expt_07_29_{}f.dat'.format(d)) as f:\n",
    "            df = pd.DataFrame(parse_data_file(f), columns=['datetime', 'mac_address', 'rssi'])\n",
    "            df['ft'] = d\n",
    "            yield df\n",
    "\n",
    "            \n",
    "df = pd.concat(read_experiment_files())\n",
    "df.sort_values(['ft', 'datetime', 'mac_address'], inplace=True)"
   ]
  },
  {
   "cell_type": "code",
   "execution_count": 6,
   "metadata": {
    "collapsed": true
   },
   "outputs": [],
   "source": [
    "def logmean(x):\n",
    "    return np.log(np.exp(x).mean())"
   ]
  },
  {
   "cell_type": "code",
   "execution_count": 7,
   "metadata": {
    "collapsed": true
   },
   "outputs": [],
   "source": [
    "window_size = 5"
   ]
  },
  {
   "cell_type": "markdown",
   "metadata": {},
   "source": [
    "## Using regular mean"
   ]
  },
  {
   "cell_type": "code",
   "execution_count": 8,
   "metadata": {},
   "outputs": [
    {
     "name": "stdout",
     "output_type": "stream",
     "text": [
      "         mean       std\n",
      "ft                     \n",
      "2  -53.626008  1.290816\n",
      "4  -60.198738  2.525830\n",
      "6  -62.032102  2.579088\n",
      "8  -65.167541  1.075850\n",
      "10 -62.998698  1.459062\n"
     ]
    },
    {
     "data": {
      "image/png": "[encoded data removed]",
      "text/plain": [
       "<matplotlib.figure.Figure at 0x7f3ad30a53d0>"
      ]
     },
     "metadata": {},
     "output_type": "display_data"
    }
   ],
   "source": [
    "rmean = df.groupby(['mac_address', 'ft'])['rssi'].rolling(window_size).mean()\n",
    "print(rmean.groupby('ft').agg(['mean', 'std']))\n",
    "\n",
    "rmean.groupby('ft').plot.hist(legend=True, title='Rolling mean')\n",
    "# plt.savefig('../rolling_mean.png', bbox_inches='tight')\n",
    "plt.show()"
   ]
  },
  {
   "cell_type": "markdown",
   "metadata": {},
   "source": [
    "## Using max"
   ]
  },
  {
   "cell_type": "code",
   "execution_count": 12,
   "metadata": {},
   "outputs": [
    {
     "name": "stdout",
     "output_type": "stream",
     "text": [
      "         mean       std\n",
      "ft                     \n",
      "2  -51.420026  0.653634\n",
      "4  -54.794530  1.143954\n",
      "6  -58.514234  1.237401\n",
      "8  -63.083564  0.578878\n",
      "10 -59.796671  1.288805\n"
     ]
    },
    {
     "data": {
      "image/png": "[encoded data removed]",
      "text/plain": [
       "<matplotlib.figure.Figure at 0x7f3ad01f6f10>"
      ]
     },
     "metadata": {},
     "output_type": "display_data"
    }
   ],
   "source": [
    "rmean = df.groupby(['mac_address', 'ft'])['rssi'].rolling(window_size).max()\n",
    "print(rmean.groupby('ft').agg(['mean', 'std']))\n",
    "\n",
    "rmean.groupby('ft').plot.hist(legend=True, title='Rolling max')\n",
    "plt.savefig('../rolling_max.png', bbox_inches='tight')\n",
    "plt.show()"
   ]
  },
  {
   "cell_type": "markdown",
   "metadata": {},
   "source": [
    "## Using logmean"
   ]
  },
  {
   "cell_type": "code",
   "execution_count": 10,
   "metadata": {
    "scrolled": false
   },
   "outputs": [
    {
     "name": "stdout",
     "output_type": "stream",
     "text": [
      "         mean       std\n",
      "ft                     \n",
      "2  -52.281515  0.833779\n",
      "4  -55.892575  1.167830\n",
      "6  -59.484377  1.256816\n",
      "8  -63.945331  0.697292\n",
      "10 -60.874639  1.278504\n"
     ]
    },
    {
     "data": {
      "image/png": "[encoded data removed]",
      "text/plain": [
       "<matplotlib.figure.Figure at 0x7f3ad032e4d0>"
      ]
     },
     "metadata": {},
     "output_type": "display_data"
    }
   ],
   "source": [
    "rmean = df.groupby(['mac_address', 'ft'])['rssi'].rolling(window_size).agg(logmean)\n",
    "print(rmean.groupby('ft').agg(['mean', 'std']))\n",
    "\n",
    "rmean.groupby('ft').plot.hist(legend=True, title='Rolling logmean')\n",
    "plt.savefig('../rolling_logmean.png', bbox_inches='tight')\n",
    "plt.show()"
   ]
  },
  {
   "cell_type": "code",
   "execution_count": 14,
   "metadata": {
    "collapsed": true
   },
   "outputs": [],
   "source": [
    "## Rolling logmean, after rolling mean (to see if logmean could improve even with the current firmware)"
   ]
  },
  {
   "cell_type": "code",
   "execution_count": 15,
   "metadata": {},
   "outputs": [
    {
     "data": {
      "image/png": "[encoded data removed]",
      "text/plain": [
       "<matplotlib.figure.Figure at 0x7f3ad05f1410>"
      ]
     },
     "metadata": {},
     "output_type": "display_data"
    }
   ],
   "source": [
    "rmean = df.groupby(['mac_address', 'ft'])['rssi'].rolling(window_size).mean()\n",
    "\n",
    "# Rolling logmean, after rolling mean (to see if logmean could improve even with the current firmware)\n",
    "rmean = rmean.iloc[0::window_size]\n",
    "rmean = rmean.groupby(['mac_address', 'ft']).rolling(5).agg(logmean)\n",
    "\n",
    "rmean.groupby('ft').plot.hist(legend=True, title='Rolling logmean, after rolling mean')\n",
    "plt.show()"
   ]
  },
  {
   "cell_type": "code",
   "execution_count": null,
   "metadata": {
    "collapsed": true
   },
   "outputs": [],
   "source": []
  }
 ],
 "metadata": {
  "kernelspec": {
   "display_name": "Python 2",
   "language": "python",
   "name": "python2"
  },
  "language_info": {
   "codemirror_mode": {
    "name": "ipython",
    "version": 2
   },
   "file_extension": ".py",
   "mimetype": "text/x-python",
   "name": "python",
   "nbconvert_exporter": "python",
   "pygments_lexer": "ipython2",
   "version": "2.7.13"
  }
 },
 "nbformat": 4,
 "nbformat_minor": 2
}
