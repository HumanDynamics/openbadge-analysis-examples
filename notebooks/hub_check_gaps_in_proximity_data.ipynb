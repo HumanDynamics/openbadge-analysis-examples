{
 "cells": [
  {
   "cell_type": "markdown",
   "metadata": {},
   "source": [
    "In this notebook, we are looking for gaps in the proximity data collected by one or more badges"
   ]
  },
  {
   "cell_type": "code",
   "execution_count": 1,
   "metadata": {},
   "outputs": [
    {
     "name": "stderr",
     "output_type": "stream",
     "text": [
      "/home/orenled/anaconda2/lib/python2.7/site-packages/ggplot/utils.py:81: FutureWarning: pandas.tslib is deprecated and will be removed in a future version.\n",
      "You can access Timestamp as pandas.Timestamp\n",
      "  pd.tslib.Timestamp,\n",
      "/home/orenled/anaconda2/lib/python2.7/site-packages/ggplot/stats/smoothers.py:4: FutureWarning: The pandas.lib module is deprecated and will be removed in a future version. These are private functions and can be accessed from pandas._libs.lib instead\n",
      "  from pandas.lib import Timestamp\n",
      "/home/orenled/anaconda2/lib/python2.7/site-packages/statsmodels/compat/pandas.py:56: FutureWarning: The pandas.core.datetools module is deprecated and will be removed in a future version. Please use the pandas.tseries module instead.\n",
      "  from pandas.core import datetools\n"
     ]
    }
   ],
   "source": [
    "from __future__ import absolute_import, division, print_function\n",
    "\n",
    "import os\n",
    "import sys\n",
    "import datetime\n",
    "import pytz\n",
    "import dateutil\n",
    "\n",
    "import pandas as pd\n",
    "import numpy as np\n",
    "\n",
    "from ggplot import *\n",
    "import gzip\n",
    "\n",
    "%matplotlib inline\n",
    "\n",
    "# Import the data analysis tools\n",
    "import openbadge_analysis as ob\n",
    "import openbadge_analysis.core"
   ]
  },
  {
   "cell_type": "code",
   "execution_count": 2,
   "metadata": {
    "collapsed": true
   },
   "outputs": [],
   "source": [
    "# config\n",
    "filename = '../data/hub_data/proximity_archive.txt.gz'\n",
    "log_filename = '../data/hub_data/hub.log.gz'\n",
    "\n",
    "eastern = pytz.timezone('US/Eastern')\n",
    "utc  = pytz.timezone('UTC')"
   ]
  },
  {
   "cell_type": "markdown",
   "metadata": {},
   "source": [
    "# Find badge first reset"
   ]
  },
  {
   "cell_type": "markdown",
   "metadata": {},
   "source": [
    "If we want to get a real sense of how many gaps we have, we need to discard data after the the badges stared to reset. We need to look at the actualy logfile to find that time. This isn't pretty, but it works."
   ]
  },
  {
   "cell_type": "code",
   "execution_count": 3,
   "metadata": {
    "collapsed": true
   },
   "outputs": [],
   "source": [
    "# only load lines in which the hub reported a unsynchronized badge\n",
    "with gzip.open(log_filename, 'r') as f:\n",
    "    unsync_raw = [ line for line in f if 'unsync' in line]"
   ]
  },
  {
   "cell_type": "code",
   "execution_count": 4,
   "metadata": {
    "collapsed": true
   },
   "outputs": [],
   "source": [
    "import re\n",
    "# use regex to get date and badge\n",
    "unsync_split = [ re.match('(.*) - INFO - \\[(.*)\\]',line).group(1,2) for line in unsync_raw]"
   ]
  },
  {
   "cell_type": "code",
   "execution_count": 5,
   "metadata": {},
   "outputs": [
    {
     "name": "stdout",
     "output_type": "stream",
     "text": [
      "datetime64[ns, US/Eastern]\n"
     ]
    }
   ],
   "source": [
    "# load into a dataframe and convert the date\n",
    "df_log = pd.DataFrame(unsync_split,columns=['datetime','badge_address'])\n",
    "\n",
    "# Sort by date\n",
    "df_log['datetime'] = pd.to_datetime(df_log['datetime'], utc=True)\n",
    "df_log.sort_values('datetime')\n",
    "df_log.index = pd.to_datetime(df_log.pop('datetime'), utc=True)\n",
    "\n",
    "# This log is in EST, so let's make the datatime tiemzone aware\n",
    "# This way we can use it to filter the data\n",
    "df_log = df_log.tz_localize(eastern)\n",
    "print(df_log.index.dtype)"
   ]
  },
  {
   "cell_type": "code",
   "execution_count": 6,
   "metadata": {},
   "outputs": [
    {
     "name": "stdout",
     "output_type": "stream",
     "text": [
      "datetime64[ns, US/Eastern]\n"
     ]
    }
   ],
   "source": [
    "# reseting index, now that we converted the timezone (i'm not sure how to do this more efficiently...)\n",
    "df_log = df_log.reset_index()\n",
    "print(df_log.datetime.dtype)"
   ]
  },
  {
   "cell_type": "markdown",
   "metadata": {},
   "source": [
    "The first reset (for every badge) is the first time we set the clock, so it's not really a reset - it is the first time we sent the date to the badge"
   ]
  },
  {
   "cell_type": "code",
   "execution_count": 7,
   "metadata": {
    "scrolled": true
   },
   "outputs": [
    {
     "name": "stdout",
     "output_type": "stream",
     "text": [
      "Start time\n",
      "                                           datetime\n",
      "badge_address                                     \n",
      "D8:59:E3:35:BD:C4 2017-06-30 21:43:01.891000-04:00\n",
      "E0:B2:01:E3:09:8C 2017-06-30 21:42:58.359000-04:00 \n",
      "\n",
      "\n",
      "First reset\n",
      "                                           datetime\n",
      "badge_address                                     \n",
      "D8:59:E3:35:BD:C4 2017-07-07 05:40:07.516000-04:00\n",
      "E0:B2:01:E3:09:8C 2017-07-07 00:05:39.844000-04:00 \n",
      "\n",
      "\n",
      "First reset, restructured\n",
      "        badge_address  first_reset_timestamp\n",
      "0  D8:59:E3:35:BD:C4           1.499420e+09\n",
      "1  E0:B2:01:E3:09:8C           1.499400e+09 \n",
      "\n",
      "\n"
     ]
    }
   ],
   "source": [
    "df_log_grp = df_log.groupby('badge_address')\n",
    "start_time = df_log_grp.nth(0)\n",
    "print(\"Start time\\n\",start_time,\"\\n\\n\")\n",
    "\n",
    "first_reset = df_log_grp.nth(1)\n",
    "print(\"First reset\\n\",first_reset,\"\\n\\n\")\n",
    "\n",
    "# change to a more convinient format\n",
    "first_reset = first_reset.reset_index()\n",
    "first_reset.rename(columns={'datetime': 'first_reset_datetime'}, inplace=True)\n",
    "first_reset['first_reset_timestamp'] = first_reset.pop('first_reset_datetime').astype(np.int64)//1e9\n",
    "print(\"First reset, restructured\\n\", first_reset,\"\\n\\n\")"
   ]
  },
  {
   "cell_type": "markdown",
   "metadata": {},
   "source": [
    "# Look for gaps"
   ]
  },
  {
   "cell_type": "code",
   "execution_count": 8,
   "metadata": {
    "collapsed": true
   },
   "outputs": [],
   "source": [
    "# Load proximity data\n",
    "with gzip.open(filename, 'r') as f:\n",
    "    proximity_chunks = ob.core.load_proximity_chunks_as_json_objects(f, log_version='2.0')"
   ]
  },
  {
   "cell_type": "code",
   "execution_count": 9,
   "metadata": {},
   "outputs": [
    {
     "data": {
      "text/plain": [
       "17369"
      ]
     },
     "execution_count": 9,
     "metadata": {},
     "output_type": "execute_result"
    }
   ],
   "source": [
    "len(proximity_chunks)"
   ]
  },
  {
   "cell_type": "code",
   "execution_count": 10,
   "metadata": {},
   "outputs": [
    {
     "name": "stdout",
     "output_type": "stream",
     "text": [
      "                   datetime      badge_address     timestamp\n",
      "0 2017-06-30 17:43:58-04:00  E0:B2:01:E3:09:8C  1.498859e+09\n",
      "1 2017-06-30 17:44:01-04:00  D8:59:E3:35:BD:C4  1.498859e+09\n",
      "2 2017-06-30 17:44:58-04:00  E0:B2:01:E3:09:8C  1.498859e+09\n",
      "3 2017-06-30 17:45:01-04:00  D8:59:E3:35:BD:C4  1.498859e+09\n",
      "4 2017-06-30 17:45:58-04:00  E0:B2:01:E3:09:8C  1.498859e+09\n",
      "5 2017-06-30 17:46:01-04:00  D8:59:E3:35:BD:C4  1.498859e+09\n",
      "6 2017-06-30 17:46:58-04:00  E0:B2:01:E3:09:8C  1.498859e+09\n",
      "7 2017-06-30 17:47:01-04:00  D8:59:E3:35:BD:C4  1.498859e+09\n",
      "8 2017-06-30 17:47:58-04:00  E0:B2:01:E3:09:8C  1.498859e+09\n",
      "9 2017-06-30 17:48:01-04:00  D8:59:E3:35:BD:C4  1.498859e+09\n",
      "datetime         datetime64[ns, US/Eastern]\n",
      "badge_address                        object\n",
      "timestamp                           float64\n",
      "dtype: object\n"
     ]
    }
   ],
   "source": [
    "# load data into a data frame\n",
    "df = pd.DataFrame(proximity_chunks,columns=['badge_address','timestamp'])\n",
    "\n",
    "# Converting timestamp (epoch) to UTC datetime\n",
    "df['datetime'] = pd.to_datetime(df['timestamp'],unit='s', utc=True)\n",
    "\n",
    "# Setting datetime as index\n",
    "df.sort_values('datetime')\n",
    "df.index = pd.to_datetime(df.pop('datetime'), utc=True)\n",
    "df = df.tz_localize(utc)\n",
    "df = df.tz_convert(eastern)\n",
    "df = df.reset_index() # make it a column again\n",
    "\n",
    "print(df.head(10))\n",
    "print(df.dtypes)"
   ]
  },
  {
   "cell_type": "markdown",
   "metadata": {},
   "source": [
    "## Filter based on first reset time"
   ]
  },
  {
   "cell_type": "code",
   "execution_count": 11,
   "metadata": {},
   "outputs": [
    {
     "name": "stdout",
     "output_type": "stream",
     "text": [
      "Records before filtering: 17369, after: 17369\n"
     ]
    }
   ],
   "source": [
    "if (len(first_reset)) > 0:\n",
    "    df_fil = pd.merge(df,first_reset,how='left',on='badge_address')\n",
    "    df_fil = df_fil[df_fil['timestamp'] < df_fil['first_reset_timestamp']]\n",
    "    print(\"Records before filtering: {}, after: {}\".format(len(df),len(df_fil)))\n",
    "\n",
    "    del df_fil['first_reset_timestamp']\n",
    "else:\n",
    "    df_fil = df"
   ]
  },
  {
   "cell_type": "markdown",
   "metadata": {},
   "source": [
    "## Check for gaps in data"
   ]
  },
  {
   "cell_type": "markdown",
   "metadata": {},
   "source": [
    "calculations are per-badge, so we must create a multi index. Then, per-group calculations can be done with group by"
   ]
  },
  {
   "cell_type": "code",
   "execution_count": 12,
   "metadata": {},
   "outputs": [
    {
     "name": "stdout",
     "output_type": "stream",
     "text": [
      "                                                             datetime  \\\n",
      "badge_address     datetime                                              \n",
      "D8:59:E3:35:BD:C4 2017-06-30 17:44:01-04:00 2017-06-30 17:44:01-04:00   \n",
      "                  2017-06-30 17:45:01-04:00 2017-06-30 17:45:01-04:00   \n",
      "                  2017-06-30 17:46:01-04:00 2017-06-30 17:46:01-04:00   \n",
      "                  2017-06-30 17:47:01-04:00 2017-06-30 17:47:01-04:00   \n",
      "                  2017-06-30 17:48:01-04:00 2017-06-30 17:48:01-04:00   \n",
      "\n",
      "                                                 badge_address     timestamp  \n",
      "badge_address     datetime                                                    \n",
      "D8:59:E3:35:BD:C4 2017-06-30 17:44:01-04:00  D8:59:E3:35:BD:C4  1.498859e+09  \n",
      "                  2017-06-30 17:45:01-04:00  D8:59:E3:35:BD:C4  1.498859e+09  \n",
      "                  2017-06-30 17:46:01-04:00  D8:59:E3:35:BD:C4  1.498859e+09  \n",
      "                  2017-06-30 17:47:01-04:00  D8:59:E3:35:BD:C4  1.498859e+09  \n",
      "                  2017-06-30 17:48:01-04:00  D8:59:E3:35:BD:C4  1.498859e+09  \n"
     ]
    }
   ],
   "source": [
    "# http://pandas.pydata.org/pandas-docs/stable/advanced.html\n",
    "# set multi-index\n",
    "df_fil.set_index(['badge_address', 'datetime'], inplace=True, drop=False)\n",
    "\n",
    "# sort is important for shift to work properly\n",
    "df_fil.sort_index(inplace=True)\n",
    "print(df_fil.head())"
   ]
  },
  {
   "cell_type": "code",
   "execution_count": 13,
   "metadata": {},
   "outputs": [
    {
     "name": "stdout",
     "output_type": "stream",
     "text": [
      "index dtype:  object\n",
      "Timediff type: float64\n",
      "                                                             datetime  \\\n",
      "badge_address     datetime                                              \n",
      "D8:59:E3:35:BD:C4 2017-06-30 17:44:01-04:00 2017-06-30 17:44:01-04:00   \n",
      "                  2017-06-30 17:45:01-04:00 2017-06-30 17:45:01-04:00   \n",
      "                  2017-06-30 17:46:01-04:00 2017-06-30 17:46:01-04:00   \n",
      "                  2017-06-30 17:47:01-04:00 2017-06-30 17:47:01-04:00   \n",
      "                  2017-06-30 17:48:01-04:00 2017-06-30 17:48:01-04:00   \n",
      "\n",
      "                                                 badge_address     timestamp  \\\n",
      "badge_address     datetime                                                     \n",
      "D8:59:E3:35:BD:C4 2017-06-30 17:44:01-04:00  D8:59:E3:35:BD:C4  1.498859e+09   \n",
      "                  2017-06-30 17:45:01-04:00  D8:59:E3:35:BD:C4  1.498859e+09   \n",
      "                  2017-06-30 17:46:01-04:00  D8:59:E3:35:BD:C4  1.498859e+09   \n",
      "                  2017-06-30 17:47:01-04:00  D8:59:E3:35:BD:C4  1.498859e+09   \n",
      "                  2017-06-30 17:48:01-04:00  D8:59:E3:35:BD:C4  1.498859e+09   \n",
      "\n",
      "                                             timestamp_lag  time_diff  \n",
      "badge_address     datetime                                             \n",
      "D8:59:E3:35:BD:C4 2017-06-30 17:44:01-04:00            NaN        NaN  \n",
      "                  2017-06-30 17:45:01-04:00   1.498859e+09       60.0  \n",
      "                  2017-06-30 17:46:01-04:00   1.498859e+09       60.0  \n",
      "                  2017-06-30 17:47:01-04:00   1.498859e+09       60.0  \n",
      "                  2017-06-30 17:48:01-04:00   1.498859e+09       60.0  \n"
     ]
    }
   ],
   "source": [
    "# http://pandas.pydata.org/pandas-docs/stable/groupby.html\n",
    "# group by badges, and shift ones so we can get the time of the previous row\n",
    "grp_shift = df_fil.groupby(level=[0]).shift(1)\n",
    "df_with_lag = df_fil.copy()\n",
    "df_with_lag['timestamp_lag']= grp_shift['timestamp']\n",
    "df_with_lag['time_diff']=df_with_lag['timestamp']-df_with_lag['timestamp_lag']\n",
    "print(\"index dtype: \",df_with_lag.index.dtype)\n",
    "print(\"Timediff type:\", df_with_lag.time_diff.dtype)\n",
    "print(df_with_lag.head())"
   ]
  },
  {
   "cell_type": "markdown",
   "metadata": {},
   "source": [
    "Scans are performed every 60 seconds"
   ]
  },
  {
   "cell_type": "code",
   "execution_count": 14,
   "metadata": {},
   "outputs": [
    {
     "name": "stdout",
     "output_type": "stream",
     "text": [
      "seconds between chunks: 60\n",
      "seconds between chunks: 62\n",
      "                                             time_diff     timestamp\n",
      "badge_address     datetime                                          \n",
      "D8:59:E3:35:BD:C4 2017-07-06 17:48:47-04:00      180.0  1.499378e+09\n",
      "                  2017-07-06 18:16:47-04:00      120.0  1.499379e+09\n",
      "                  2017-07-06 18:27:47-04:00      120.0  1.499380e+09\n",
      "                  2017-07-06 18:29:47-04:00      120.0  1.499380e+09\n",
      "                  2017-07-06 18:33:47-04:00      120.0  1.499380e+09\n",
      "                  2017-07-06 18:41:47-04:00      120.0  1.499381e+09\n",
      "                  2017-07-06 18:46:47-04:00      120.0  1.499381e+09\n",
      "                  2017-07-06 18:56:47-04:00      120.0  1.499382e+09\n",
      "                  2017-07-06 19:02:47-04:00      120.0  1.499382e+09\n",
      "                  2017-07-06 19:09:47-04:00      300.0  1.499383e+09\n"
     ]
    }
   ],
   "source": [
    "seconds_between_chunks = 60\n",
    "print(\"seconds between chunks: {}\".format(seconds_between_chunks))\n",
    "\n",
    "# time between chunks might vary slightly\n",
    "seconds_between_chunks = seconds_between_chunks + 2\n",
    "print(\"seconds between chunks: {}\".format(seconds_between_chunks))\n",
    "\n",
    "gaps = df_with_lag[df_with_lag['time_diff']>seconds_between_chunks]\n",
    "print(gaps[['time_diff','timestamp']].head(10))"
   ]
  },
  {
   "cell_type": "markdown",
   "metadata": {},
   "source": [
    "How many gaps are ther then? If you look below, you'll see that there are gaps in the data, even before the first reset. However, if you look at the hub_plot_audio_voltage notebook, you will see that these gaps appear only when the battery voltage is very low."
   ]
  },
  {
   "cell_type": "code",
   "execution_count": 15,
   "metadata": {},
   "outputs": [
    {
     "name": "stdout",
     "output_type": "stream",
     "text": [
      "17369\n",
      "33\n",
      "0.00189993666878\n"
     ]
    }
   ],
   "source": [
    "print(len(df))\n",
    "print(len(gaps))\n",
    "print(len(gaps)/len(df))"
   ]
  },
  {
   "cell_type": "code",
   "execution_count": 16,
   "metadata": {},
   "outputs": [
    {
     "data": {
      "text/html": [
       "<div>\n",
       "<style>\n",
       "    .dataframe thead tr:only-child th {\n",
       "        text-align: right;\n",
       "    }\n",
       "\n",
       "    .dataframe thead th {\n",
       "        text-align: left;\n",
       "    }\n",
       "\n",
       "    .dataframe tbody tr th {\n",
       "        vertical-align: top;\n",
       "    }\n",
       "</style>\n",
       "<table border=\"1\" class=\"dataframe\">\n",
       "  <thead>\n",
       "    <tr style=\"text-align: right;\">\n",
       "      <th></th>\n",
       "      <th></th>\n",
       "      <th>datetime</th>\n",
       "      <th>badge_address</th>\n",
       "      <th>timestamp</th>\n",
       "      <th>timestamp_lag</th>\n",
       "      <th>time_diff</th>\n",
       "    </tr>\n",
       "    <tr>\n",
       "      <th>badge_address</th>\n",
       "      <th>datetime</th>\n",
       "      <th></th>\n",
       "      <th></th>\n",
       "      <th></th>\n",
       "      <th></th>\n",
       "      <th></th>\n",
       "    </tr>\n",
       "  </thead>\n",
       "  <tbody>\n",
       "    <tr>\n",
       "      <th rowspan=\"11\" valign=\"top\">D8:59:E3:35:BD:C4</th>\n",
       "      <th>2017-07-06 17:48:47-04:00</th>\n",
       "      <td>2017-07-06 17:48:47-04:00</td>\n",
       "      <td>D8:59:E3:35:BD:C4</td>\n",
       "      <td>1.499378e+09</td>\n",
       "      <td>1.499378e+09</td>\n",
       "      <td>180.0</td>\n",
       "    </tr>\n",
       "    <tr>\n",
       "      <th>2017-07-06 18:16:47-04:00</th>\n",
       "      <td>2017-07-06 18:16:47-04:00</td>\n",
       "      <td>D8:59:E3:35:BD:C4</td>\n",
       "      <td>1.499379e+09</td>\n",
       "      <td>1.499379e+09</td>\n",
       "      <td>120.0</td>\n",
       "    </tr>\n",
       "    <tr>\n",
       "      <th>2017-07-06 18:27:47-04:00</th>\n",
       "      <td>2017-07-06 18:27:47-04:00</td>\n",
       "      <td>D8:59:E3:35:BD:C4</td>\n",
       "      <td>1.499380e+09</td>\n",
       "      <td>1.499380e+09</td>\n",
       "      <td>120.0</td>\n",
       "    </tr>\n",
       "    <tr>\n",
       "      <th>2017-07-06 18:29:47-04:00</th>\n",
       "      <td>2017-07-06 18:29:47-04:00</td>\n",
       "      <td>D8:59:E3:35:BD:C4</td>\n",
       "      <td>1.499380e+09</td>\n",
       "      <td>1.499380e+09</td>\n",
       "      <td>120.0</td>\n",
       "    </tr>\n",
       "    <tr>\n",
       "      <th>2017-07-06 18:33:47-04:00</th>\n",
       "      <td>2017-07-06 18:33:47-04:00</td>\n",
       "      <td>D8:59:E3:35:BD:C4</td>\n",
       "      <td>1.499380e+09</td>\n",
       "      <td>1.499380e+09</td>\n",
       "      <td>120.0</td>\n",
       "    </tr>\n",
       "    <tr>\n",
       "      <th>2017-07-06 18:41:47-04:00</th>\n",
       "      <td>2017-07-06 18:41:47-04:00</td>\n",
       "      <td>D8:59:E3:35:BD:C4</td>\n",
       "      <td>1.499381e+09</td>\n",
       "      <td>1.499381e+09</td>\n",
       "      <td>120.0</td>\n",
       "    </tr>\n",
       "    <tr>\n",
       "      <th>2017-07-06 18:46:47-04:00</th>\n",
       "      <td>2017-07-06 18:46:47-04:00</td>\n",
       "      <td>D8:59:E3:35:BD:C4</td>\n",
       "      <td>1.499381e+09</td>\n",
       "      <td>1.499381e+09</td>\n",
       "      <td>120.0</td>\n",
       "    </tr>\n",
       "    <tr>\n",
       "      <th>2017-07-06 18:56:47-04:00</th>\n",
       "      <td>2017-07-06 18:56:47-04:00</td>\n",
       "      <td>D8:59:E3:35:BD:C4</td>\n",
       "      <td>1.499382e+09</td>\n",
       "      <td>1.499382e+09</td>\n",
       "      <td>120.0</td>\n",
       "    </tr>\n",
       "    <tr>\n",
       "      <th>2017-07-06 19:02:47-04:00</th>\n",
       "      <td>2017-07-06 19:02:47-04:00</td>\n",
       "      <td>D8:59:E3:35:BD:C4</td>\n",
       "      <td>1.499382e+09</td>\n",
       "      <td>1.499382e+09</td>\n",
       "      <td>120.0</td>\n",
       "    </tr>\n",
       "    <tr>\n",
       "      <th>2017-07-06 19:09:47-04:00</th>\n",
       "      <td>2017-07-06 19:09:47-04:00</td>\n",
       "      <td>D8:59:E3:35:BD:C4</td>\n",
       "      <td>1.499383e+09</td>\n",
       "      <td>1.499382e+09</td>\n",
       "      <td>300.0</td>\n",
       "    </tr>\n",
       "    <tr>\n",
       "      <th>2017-07-06 19:18:47-04:00</th>\n",
       "      <td>2017-07-06 19:18:47-04:00</td>\n",
       "      <td>D8:59:E3:35:BD:C4</td>\n",
       "      <td>1.499383e+09</td>\n",
       "      <td>1.499383e+09</td>\n",
       "      <td>540.0</td>\n",
       "    </tr>\n",
       "    <tr>\n",
       "      <th rowspan=\"22\" valign=\"top\">E0:B2:01:E3:09:8C</th>\n",
       "      <th>2017-07-06 15:48:19-04:00</th>\n",
       "      <td>2017-07-06 15:48:19-04:00</td>\n",
       "      <td>E0:B2:01:E3:09:8C</td>\n",
       "      <td>1.499370e+09</td>\n",
       "      <td>1.499370e+09</td>\n",
       "      <td>120.0</td>\n",
       "    </tr>\n",
       "    <tr>\n",
       "      <th>2017-07-06 16:29:19-04:00</th>\n",
       "      <td>2017-07-06 16:29:19-04:00</td>\n",
       "      <td>E0:B2:01:E3:09:8C</td>\n",
       "      <td>1.499373e+09</td>\n",
       "      <td>1.499373e+09</td>\n",
       "      <td>180.0</td>\n",
       "    </tr>\n",
       "    <tr>\n",
       "      <th>2017-07-06 16:31:19-04:00</th>\n",
       "      <td>2017-07-06 16:31:19-04:00</td>\n",
       "      <td>E0:B2:01:E3:09:8C</td>\n",
       "      <td>1.499373e+09</td>\n",
       "      <td>1.499373e+09</td>\n",
       "      <td>120.0</td>\n",
       "    </tr>\n",
       "    <tr>\n",
       "      <th>2017-07-06 17:13:19-04:00</th>\n",
       "      <td>2017-07-06 17:13:19-04:00</td>\n",
       "      <td>E0:B2:01:E3:09:8C</td>\n",
       "      <td>1.499376e+09</td>\n",
       "      <td>1.499375e+09</td>\n",
       "      <td>120.0</td>\n",
       "    </tr>\n",
       "    <tr>\n",
       "      <th>2017-07-06 17:27:20-04:00</th>\n",
       "      <td>2017-07-06 17:27:20-04:00</td>\n",
       "      <td>E0:B2:01:E3:09:8C</td>\n",
       "      <td>1.499376e+09</td>\n",
       "      <td>1.499376e+09</td>\n",
       "      <td>121.0</td>\n",
       "    </tr>\n",
       "    <tr>\n",
       "      <th>2017-07-06 17:30:20-04:00</th>\n",
       "      <td>2017-07-06 17:30:20-04:00</td>\n",
       "      <td>E0:B2:01:E3:09:8C</td>\n",
       "      <td>1.499377e+09</td>\n",
       "      <td>1.499376e+09</td>\n",
       "      <td>120.0</td>\n",
       "    </tr>\n",
       "    <tr>\n",
       "      <th>2017-07-06 17:37:20-04:00</th>\n",
       "      <td>2017-07-06 17:37:20-04:00</td>\n",
       "      <td>E0:B2:01:E3:09:8C</td>\n",
       "      <td>1.499377e+09</td>\n",
       "      <td>1.499377e+09</td>\n",
       "      <td>120.0</td>\n",
       "    </tr>\n",
       "    <tr>\n",
       "      <th>2017-07-06 17:44:20-04:00</th>\n",
       "      <td>2017-07-06 17:44:20-04:00</td>\n",
       "      <td>E0:B2:01:E3:09:8C</td>\n",
       "      <td>1.499377e+09</td>\n",
       "      <td>1.499377e+09</td>\n",
       "      <td>120.0</td>\n",
       "    </tr>\n",
       "    <tr>\n",
       "      <th>2017-07-06 17:49:20-04:00</th>\n",
       "      <td>2017-07-06 17:49:20-04:00</td>\n",
       "      <td>E0:B2:01:E3:09:8C</td>\n",
       "      <td>1.499378e+09</td>\n",
       "      <td>1.499378e+09</td>\n",
       "      <td>120.0</td>\n",
       "    </tr>\n",
       "    <tr>\n",
       "      <th>2017-07-06 17:52:20-04:00</th>\n",
       "      <td>2017-07-06 17:52:20-04:00</td>\n",
       "      <td>E0:B2:01:E3:09:8C</td>\n",
       "      <td>1.499378e+09</td>\n",
       "      <td>1.499378e+09</td>\n",
       "      <td>120.0</td>\n",
       "    </tr>\n",
       "    <tr>\n",
       "      <th>2017-07-06 17:56:20-04:00</th>\n",
       "      <td>2017-07-06 17:56:20-04:00</td>\n",
       "      <td>E0:B2:01:E3:09:8C</td>\n",
       "      <td>1.499378e+09</td>\n",
       "      <td>1.499378e+09</td>\n",
       "      <td>180.0</td>\n",
       "    </tr>\n",
       "    <tr>\n",
       "      <th>2017-07-06 17:59:20-04:00</th>\n",
       "      <td>2017-07-06 17:59:20-04:00</td>\n",
       "      <td>E0:B2:01:E3:09:8C</td>\n",
       "      <td>1.499378e+09</td>\n",
       "      <td>1.499378e+09</td>\n",
       "      <td>120.0</td>\n",
       "    </tr>\n",
       "    <tr>\n",
       "      <th>2017-07-06 18:03:20-04:00</th>\n",
       "      <td>2017-07-06 18:03:20-04:00</td>\n",
       "      <td>E0:B2:01:E3:09:8C</td>\n",
       "      <td>1.499379e+09</td>\n",
       "      <td>1.499378e+09</td>\n",
       "      <td>120.0</td>\n",
       "    </tr>\n",
       "    <tr>\n",
       "      <th>2017-07-06 18:07:20-04:00</th>\n",
       "      <td>2017-07-06 18:07:20-04:00</td>\n",
       "      <td>E0:B2:01:E3:09:8C</td>\n",
       "      <td>1.499379e+09</td>\n",
       "      <td>1.499379e+09</td>\n",
       "      <td>240.0</td>\n",
       "    </tr>\n",
       "    <tr>\n",
       "      <th>2017-07-06 18:10:20-04:00</th>\n",
       "      <td>2017-07-06 18:10:20-04:00</td>\n",
       "      <td>E0:B2:01:E3:09:8C</td>\n",
       "      <td>1.499379e+09</td>\n",
       "      <td>1.499379e+09</td>\n",
       "      <td>180.0</td>\n",
       "    </tr>\n",
       "    <tr>\n",
       "      <th>2017-07-06 18:12:20-04:00</th>\n",
       "      <td>2017-07-06 18:12:20-04:00</td>\n",
       "      <td>E0:B2:01:E3:09:8C</td>\n",
       "      <td>1.499379e+09</td>\n",
       "      <td>1.499379e+09</td>\n",
       "      <td>120.0</td>\n",
       "    </tr>\n",
       "    <tr>\n",
       "      <th>2017-07-06 18:16:20-04:00</th>\n",
       "      <td>2017-07-06 18:16:20-04:00</td>\n",
       "      <td>E0:B2:01:E3:09:8C</td>\n",
       "      <td>1.499379e+09</td>\n",
       "      <td>1.499379e+09</td>\n",
       "      <td>180.0</td>\n",
       "    </tr>\n",
       "    <tr>\n",
       "      <th>2017-07-06 18:18:20-04:00</th>\n",
       "      <td>2017-07-06 18:18:20-04:00</td>\n",
       "      <td>E0:B2:01:E3:09:8C</td>\n",
       "      <td>1.499380e+09</td>\n",
       "      <td>1.499379e+09</td>\n",
       "      <td>120.0</td>\n",
       "    </tr>\n",
       "    <tr>\n",
       "      <th>2017-07-06 18:22:20-04:00</th>\n",
       "      <td>2017-07-06 18:22:20-04:00</td>\n",
       "      <td>E0:B2:01:E3:09:8C</td>\n",
       "      <td>1.499380e+09</td>\n",
       "      <td>1.499380e+09</td>\n",
       "      <td>180.0</td>\n",
       "    </tr>\n",
       "    <tr>\n",
       "      <th>2017-07-06 18:24:20-04:00</th>\n",
       "      <td>2017-07-06 18:24:20-04:00</td>\n",
       "      <td>E0:B2:01:E3:09:8C</td>\n",
       "      <td>1.499380e+09</td>\n",
       "      <td>1.499380e+09</td>\n",
       "      <td>120.0</td>\n",
       "    </tr>\n",
       "    <tr>\n",
       "      <th>2017-07-06 18:37:20-04:00</th>\n",
       "      <td>2017-07-06 18:37:20-04:00</td>\n",
       "      <td>E0:B2:01:E3:09:8C</td>\n",
       "      <td>1.499381e+09</td>\n",
       "      <td>1.499380e+09</td>\n",
       "      <td>780.0</td>\n",
       "    </tr>\n",
       "    <tr>\n",
       "      <th>2017-07-06 18:44:20-04:00</th>\n",
       "      <td>2017-07-06 18:44:20-04:00</td>\n",
       "      <td>E0:B2:01:E3:09:8C</td>\n",
       "      <td>1.499381e+09</td>\n",
       "      <td>1.499381e+09</td>\n",
       "      <td>420.0</td>\n",
       "    </tr>\n",
       "  </tbody>\n",
       "</table>\n",
       "</div>"
      ],
      "text/plain": [
       "                                                             datetime  \\\n",
       "badge_address     datetime                                              \n",
       "D8:59:E3:35:BD:C4 2017-07-06 17:48:47-04:00 2017-07-06 17:48:47-04:00   \n",
       "                  2017-07-06 18:16:47-04:00 2017-07-06 18:16:47-04:00   \n",
       "                  2017-07-06 18:27:47-04:00 2017-07-06 18:27:47-04:00   \n",
       "                  2017-07-06 18:29:47-04:00 2017-07-06 18:29:47-04:00   \n",
       "                  2017-07-06 18:33:47-04:00 2017-07-06 18:33:47-04:00   \n",
       "                  2017-07-06 18:41:47-04:00 2017-07-06 18:41:47-04:00   \n",
       "                  2017-07-06 18:46:47-04:00 2017-07-06 18:46:47-04:00   \n",
       "                  2017-07-06 18:56:47-04:00 2017-07-06 18:56:47-04:00   \n",
       "                  2017-07-06 19:02:47-04:00 2017-07-06 19:02:47-04:00   \n",
       "                  2017-07-06 19:09:47-04:00 2017-07-06 19:09:47-04:00   \n",
       "                  2017-07-06 19:18:47-04:00 2017-07-06 19:18:47-04:00   \n",
       "E0:B2:01:E3:09:8C 2017-07-06 15:48:19-04:00 2017-07-06 15:48:19-04:00   \n",
       "                  2017-07-06 16:29:19-04:00 2017-07-06 16:29:19-04:00   \n",
       "                  2017-07-06 16:31:19-04:00 2017-07-06 16:31:19-04:00   \n",
       "                  2017-07-06 17:13:19-04:00 2017-07-06 17:13:19-04:00   \n",
       "                  2017-07-06 17:27:20-04:00 2017-07-06 17:27:20-04:00   \n",
       "                  2017-07-06 17:30:20-04:00 2017-07-06 17:30:20-04:00   \n",
       "                  2017-07-06 17:37:20-04:00 2017-07-06 17:37:20-04:00   \n",
       "                  2017-07-06 17:44:20-04:00 2017-07-06 17:44:20-04:00   \n",
       "                  2017-07-06 17:49:20-04:00 2017-07-06 17:49:20-04:00   \n",
       "                  2017-07-06 17:52:20-04:00 2017-07-06 17:52:20-04:00   \n",
       "                  2017-07-06 17:56:20-04:00 2017-07-06 17:56:20-04:00   \n",
       "                  2017-07-06 17:59:20-04:00 2017-07-06 17:59:20-04:00   \n",
       "                  2017-07-06 18:03:20-04:00 2017-07-06 18:03:20-04:00   \n",
       "                  2017-07-06 18:07:20-04:00 2017-07-06 18:07:20-04:00   \n",
       "                  2017-07-06 18:10:20-04:00 2017-07-06 18:10:20-04:00   \n",
       "                  2017-07-06 18:12:20-04:00 2017-07-06 18:12:20-04:00   \n",
       "                  2017-07-06 18:16:20-04:00 2017-07-06 18:16:20-04:00   \n",
       "                  2017-07-06 18:18:20-04:00 2017-07-06 18:18:20-04:00   \n",
       "                  2017-07-06 18:22:20-04:00 2017-07-06 18:22:20-04:00   \n",
       "                  2017-07-06 18:24:20-04:00 2017-07-06 18:24:20-04:00   \n",
       "                  2017-07-06 18:37:20-04:00 2017-07-06 18:37:20-04:00   \n",
       "                  2017-07-06 18:44:20-04:00 2017-07-06 18:44:20-04:00   \n",
       "\n",
       "                                                 badge_address     timestamp  \\\n",
       "badge_address     datetime                                                     \n",
       "D8:59:E3:35:BD:C4 2017-07-06 17:48:47-04:00  D8:59:E3:35:BD:C4  1.499378e+09   \n",
       "                  2017-07-06 18:16:47-04:00  D8:59:E3:35:BD:C4  1.499379e+09   \n",
       "                  2017-07-06 18:27:47-04:00  D8:59:E3:35:BD:C4  1.499380e+09   \n",
       "                  2017-07-06 18:29:47-04:00  D8:59:E3:35:BD:C4  1.499380e+09   \n",
       "                  2017-07-06 18:33:47-04:00  D8:59:E3:35:BD:C4  1.499380e+09   \n",
       "                  2017-07-06 18:41:47-04:00  D8:59:E3:35:BD:C4  1.499381e+09   \n",
       "                  2017-07-06 18:46:47-04:00  D8:59:E3:35:BD:C4  1.499381e+09   \n",
       "                  2017-07-06 18:56:47-04:00  D8:59:E3:35:BD:C4  1.499382e+09   \n",
       "                  2017-07-06 19:02:47-04:00  D8:59:E3:35:BD:C4  1.499382e+09   \n",
       "                  2017-07-06 19:09:47-04:00  D8:59:E3:35:BD:C4  1.499383e+09   \n",
       "                  2017-07-06 19:18:47-04:00  D8:59:E3:35:BD:C4  1.499383e+09   \n",
       "E0:B2:01:E3:09:8C 2017-07-06 15:48:19-04:00  E0:B2:01:E3:09:8C  1.499370e+09   \n",
       "                  2017-07-06 16:29:19-04:00  E0:B2:01:E3:09:8C  1.499373e+09   \n",
       "                  2017-07-06 16:31:19-04:00  E0:B2:01:E3:09:8C  1.499373e+09   \n",
       "                  2017-07-06 17:13:19-04:00  E0:B2:01:E3:09:8C  1.499376e+09   \n",
       "                  2017-07-06 17:27:20-04:00  E0:B2:01:E3:09:8C  1.499376e+09   \n",
       "                  2017-07-06 17:30:20-04:00  E0:B2:01:E3:09:8C  1.499377e+09   \n",
       "                  2017-07-06 17:37:20-04:00  E0:B2:01:E3:09:8C  1.499377e+09   \n",
       "                  2017-07-06 17:44:20-04:00  E0:B2:01:E3:09:8C  1.499377e+09   \n",
       "                  2017-07-06 17:49:20-04:00  E0:B2:01:E3:09:8C  1.499378e+09   \n",
       "                  2017-07-06 17:52:20-04:00  E0:B2:01:E3:09:8C  1.499378e+09   \n",
       "                  2017-07-06 17:56:20-04:00  E0:B2:01:E3:09:8C  1.499378e+09   \n",
       "                  2017-07-06 17:59:20-04:00  E0:B2:01:E3:09:8C  1.499378e+09   \n",
       "                  2017-07-06 18:03:20-04:00  E0:B2:01:E3:09:8C  1.499379e+09   \n",
       "                  2017-07-06 18:07:20-04:00  E0:B2:01:E3:09:8C  1.499379e+09   \n",
       "                  2017-07-06 18:10:20-04:00  E0:B2:01:E3:09:8C  1.499379e+09   \n",
       "                  2017-07-06 18:12:20-04:00  E0:B2:01:E3:09:8C  1.499379e+09   \n",
       "                  2017-07-06 18:16:20-04:00  E0:B2:01:E3:09:8C  1.499379e+09   \n",
       "                  2017-07-06 18:18:20-04:00  E0:B2:01:E3:09:8C  1.499380e+09   \n",
       "                  2017-07-06 18:22:20-04:00  E0:B2:01:E3:09:8C  1.499380e+09   \n",
       "                  2017-07-06 18:24:20-04:00  E0:B2:01:E3:09:8C  1.499380e+09   \n",
       "                  2017-07-06 18:37:20-04:00  E0:B2:01:E3:09:8C  1.499381e+09   \n",
       "                  2017-07-06 18:44:20-04:00  E0:B2:01:E3:09:8C  1.499381e+09   \n",
       "\n",
       "                                             timestamp_lag  time_diff  \n",
       "badge_address     datetime                                             \n",
       "D8:59:E3:35:BD:C4 2017-07-06 17:48:47-04:00   1.499378e+09      180.0  \n",
       "                  2017-07-06 18:16:47-04:00   1.499379e+09      120.0  \n",
       "                  2017-07-06 18:27:47-04:00   1.499380e+09      120.0  \n",
       "                  2017-07-06 18:29:47-04:00   1.499380e+09      120.0  \n",
       "                  2017-07-06 18:33:47-04:00   1.499380e+09      120.0  \n",
       "                  2017-07-06 18:41:47-04:00   1.499381e+09      120.0  \n",
       "                  2017-07-06 18:46:47-04:00   1.499381e+09      120.0  \n",
       "                  2017-07-06 18:56:47-04:00   1.499382e+09      120.0  \n",
       "                  2017-07-06 19:02:47-04:00   1.499382e+09      120.0  \n",
       "                  2017-07-06 19:09:47-04:00   1.499382e+09      300.0  \n",
       "                  2017-07-06 19:18:47-04:00   1.499383e+09      540.0  \n",
       "E0:B2:01:E3:09:8C 2017-07-06 15:48:19-04:00   1.499370e+09      120.0  \n",
       "                  2017-07-06 16:29:19-04:00   1.499373e+09      180.0  \n",
       "                  2017-07-06 16:31:19-04:00   1.499373e+09      120.0  \n",
       "                  2017-07-06 17:13:19-04:00   1.499375e+09      120.0  \n",
       "                  2017-07-06 17:27:20-04:00   1.499376e+09      121.0  \n",
       "                  2017-07-06 17:30:20-04:00   1.499376e+09      120.0  \n",
       "                  2017-07-06 17:37:20-04:00   1.499377e+09      120.0  \n",
       "                  2017-07-06 17:44:20-04:00   1.499377e+09      120.0  \n",
       "                  2017-07-06 17:49:20-04:00   1.499378e+09      120.0  \n",
       "                  2017-07-06 17:52:20-04:00   1.499378e+09      120.0  \n",
       "                  2017-07-06 17:56:20-04:00   1.499378e+09      180.0  \n",
       "                  2017-07-06 17:59:20-04:00   1.499378e+09      120.0  \n",
       "                  2017-07-06 18:03:20-04:00   1.499378e+09      120.0  \n",
       "                  2017-07-06 18:07:20-04:00   1.499379e+09      240.0  \n",
       "                  2017-07-06 18:10:20-04:00   1.499379e+09      180.0  \n",
       "                  2017-07-06 18:12:20-04:00   1.499379e+09      120.0  \n",
       "                  2017-07-06 18:16:20-04:00   1.499379e+09      180.0  \n",
       "                  2017-07-06 18:18:20-04:00   1.499379e+09      120.0  \n",
       "                  2017-07-06 18:22:20-04:00   1.499380e+09      180.0  \n",
       "                  2017-07-06 18:24:20-04:00   1.499380e+09      120.0  \n",
       "                  2017-07-06 18:37:20-04:00   1.499380e+09      780.0  \n",
       "                  2017-07-06 18:44:20-04:00   1.499381e+09      420.0  "
      ]
     },
     "execution_count": 16,
     "metadata": {},
     "output_type": "execute_result"
    }
   ],
   "source": [
    "gaps"
   ]
  },
  {
   "cell_type": "markdown",
   "metadata": {},
   "source": [
    "# Misc analysis of the gaps"
   ]
  },
  {
   "cell_type": "code",
   "execution_count": 17,
   "metadata": {},
   "outputs": [
    {
     "data": {
      "text/plain": [
       "badge_address      datetime                 \n",
       "D8:59:E3:35:BD:C4  2017-07-06 18:16:47-04:00    1499379407.000\n",
       "Name: timestamp, dtype: object"
      ]
     },
     "execution_count": 17,
     "metadata": {},
     "output_type": "execute_result"
    }
   ],
   "source": [
    "gaps[1:2].timestamp.map('{:.3f}'.format)"
   ]
  },
  {
   "cell_type": "code",
   "execution_count": 18,
   "metadata": {},
   "outputs": [
    {
     "data": {
      "text/plain": [
       "badge_address      datetime                 \n",
       "D8:59:E3:35:BD:C4  2017-07-06 19:02:47-04:00    1499382167.000\n",
       "Name: timestamp, dtype: object"
      ]
     },
     "execution_count": 18,
     "metadata": {},
     "output_type": "execute_result"
    }
   ],
   "source": [
    "gaps[8:9].timestamp.map('{:.3f}'.format)"
   ]
  },
  {
   "cell_type": "code",
   "execution_count": 19,
   "metadata": {},
   "outputs": [
    {
     "name": "stderr",
     "output_type": "stream",
     "text": [
      "/home/orenled/anaconda2/lib/python2.7/site-packages/ggplot/ggplot.py:420: FutureWarning: 'badge_address' is both a column name and an index level.\n",
      "Defaulting to column but this will raise an ambiguity error in a future version\n",
      "  return mappers, data.groupby(groups)\n"
     ]
    },
    {
     "data": {
      "image/png": "[encoded data removed]",
      "text/plain": [
       "<matplotlib.figure.Figure at 0x7f4b64c07bd0>"
      ]
     },
     "metadata": {},
     "output_type": "display_data"
    },
    {
     "data": {
      "text/plain": [
       "<ggplot: (8747611850393)>"
      ]
     },
     "execution_count": 19,
     "metadata": {},
     "output_type": "execute_result"
    }
   ],
   "source": [
    "p = ggplot(aes(x='time_diff', fill='badge_address'), data=gaps)\n",
    "p + geom_histogram(binwidth=1)\n",
    "p + geom_density(alpha=0.25) \n",
    "p + ggtitle(\"Gap (sec)\")"
   ]
  },
  {
   "cell_type": "code",
   "execution_count": null,
   "metadata": {
    "collapsed": true
   },
   "outputs": [],
   "source": []
  }
 ],
 "metadata": {
  "kernelspec": {
   "display_name": "Python 2",
   "language": "python",
   "name": "python2"
  },
  "language_info": {
   "codemirror_mode": {
    "name": "ipython",
    "version": 2
   },
   "file_extension": ".py",
   "mimetype": "text/x-python",
   "name": "python",
   "nbconvert_exporter": "python",
   "pygments_lexer": "ipython2",
   "version": "2.7.13"
  }
 },
 "nbformat": 4,
 "nbformat_minor": 1
}
